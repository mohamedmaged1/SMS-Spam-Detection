{
 "cells": [
  {
   "cell_type": "code",
   "execution_count": 1,
   "id": "06a22aa8",
   "metadata": {
    "_cell_guid": "b1076dfc-b9ad-4769-8c92-a6c4dae69d19",
    "_uuid": "8f2839f25d086af736a60e9eeb907d3b93b6e0e5",
    "execution": {
     "iopub.execute_input": "2021-12-17T13:46:55.310532Z",
     "iopub.status.busy": "2021-12-17T13:46:55.308691Z",
     "iopub.status.idle": "2021-12-17T13:46:57.347468Z",
     "shell.execute_reply": "2021-12-17T13:46:57.346367Z",
     "shell.execute_reply.started": "2021-12-17T13:45:37.792059Z"
    },
    "papermill": {
     "duration": 2.062879,
     "end_time": "2021-12-17T13:46:57.347691",
     "exception": false,
     "start_time": "2021-12-17T13:46:55.284812",
     "status": "completed"
    },
    "tags": []
   },
   "outputs": [],
   "source": [
    "import pandas as pd\n",
    "import numpy as np\n",
    "import seaborn as sns\n",
    "from nltk.tokenize import word_tokenize\n",
    "from nltk.corpus import stopwords\n",
    "import nltk\n",
    "from nltk.stem import PorterStemmer\n",
    "from nltk.stem import LancasterStemmer\n",
    "from nltk.stem import SnowballStemmer\n",
    "from sklearn.pipeline import make_pipeline\n",
    "from sklearn.feature_extraction.text import TfidfVectorizer\n",
    "import string\n",
    "import re\n",
    "import warnings as wr\n",
    "\n",
    "\n",
    "wr.filterwarnings(\"ignore\")\n"
   ]
  },
  {
   "cell_type": "code",
   "execution_count": 2,
   "id": "2dd438e4",
   "metadata": {
    "execution": {
     "iopub.execute_input": "2021-12-17T13:46:57.390128Z",
     "iopub.status.busy": "2021-12-17T13:46:57.389431Z",
     "iopub.status.idle": "2021-12-17T13:46:57.435901Z",
     "shell.execute_reply": "2021-12-17T13:46:57.435253Z",
     "shell.execute_reply.started": "2021-12-17T13:45:37.950970Z"
    },
    "papermill": {
     "duration": 0.069919,
     "end_time": "2021-12-17T13:46:57.436061",
     "exception": false,
     "start_time": "2021-12-17T13:46:57.366142",
     "status": "completed"
    },
    "tags": []
   },
   "outputs": [],
   "source": [
    "data=pd.read_csv(r'../input/sms-spam-collection-dataset/spam.csv',encoding=\"ISO-8859-1\")\n",
    "x=data.copy()"
   ]
  },
  {
   "cell_type": "code",
   "execution_count": 3,
   "id": "bc6530fa",
   "metadata": {
    "execution": {
     "iopub.execute_input": "2021-12-17T13:46:57.480270Z",
     "iopub.status.busy": "2021-12-17T13:46:57.474561Z",
     "iopub.status.idle": "2021-12-17T13:46:57.500439Z",
     "shell.execute_reply": "2021-12-17T13:46:57.501031Z",
     "shell.execute_reply.started": "2021-12-17T13:45:37.974635Z"
    },
    "papermill": {
     "duration": 0.047598,
     "end_time": "2021-12-17T13:46:57.501270",
     "exception": false,
     "start_time": "2021-12-17T13:46:57.453672",
     "status": "completed"
    },
    "tags": []
   },
   "outputs": [
    {
     "data": {
      "text/html": [
       "<div>\n",
       "<style scoped>\n",
       "    .dataframe tbody tr th:only-of-type {\n",
       "        vertical-align: middle;\n",
       "    }\n",
       "\n",
       "    .dataframe tbody tr th {\n",
       "        vertical-align: top;\n",
       "    }\n",
       "\n",
       "    .dataframe thead th {\n",
       "        text-align: right;\n",
       "    }\n",
       "</style>\n",
       "<table border=\"1\" class=\"dataframe\">\n",
       "  <thead>\n",
       "    <tr style=\"text-align: right;\">\n",
       "      <th></th>\n",
       "      <th>v1</th>\n",
       "      <th>v2</th>\n",
       "      <th>Unnamed: 2</th>\n",
       "      <th>Unnamed: 3</th>\n",
       "      <th>Unnamed: 4</th>\n",
       "    </tr>\n",
       "  </thead>\n",
       "  <tbody>\n",
       "    <tr>\n",
       "      <th>0</th>\n",
       "      <td>ham</td>\n",
       "      <td>Go until jurong point, crazy.. Available only ...</td>\n",
       "      <td>NaN</td>\n",
       "      <td>NaN</td>\n",
       "      <td>NaN</td>\n",
       "    </tr>\n",
       "    <tr>\n",
       "      <th>1</th>\n",
       "      <td>ham</td>\n",
       "      <td>Ok lar... Joking wif u oni...</td>\n",
       "      <td>NaN</td>\n",
       "      <td>NaN</td>\n",
       "      <td>NaN</td>\n",
       "    </tr>\n",
       "    <tr>\n",
       "      <th>2</th>\n",
       "      <td>spam</td>\n",
       "      <td>Free entry in 2 a wkly comp to win FA Cup fina...</td>\n",
       "      <td>NaN</td>\n",
       "      <td>NaN</td>\n",
       "      <td>NaN</td>\n",
       "    </tr>\n",
       "    <tr>\n",
       "      <th>3</th>\n",
       "      <td>ham</td>\n",
       "      <td>U dun say so early hor... U c already then say...</td>\n",
       "      <td>NaN</td>\n",
       "      <td>NaN</td>\n",
       "      <td>NaN</td>\n",
       "    </tr>\n",
       "    <tr>\n",
       "      <th>4</th>\n",
       "      <td>ham</td>\n",
       "      <td>Nah I don't think he goes to usf, he lives aro...</td>\n",
       "      <td>NaN</td>\n",
       "      <td>NaN</td>\n",
       "      <td>NaN</td>\n",
       "    </tr>\n",
       "  </tbody>\n",
       "</table>\n",
       "</div>"
      ],
      "text/plain": [
       "     v1                                                 v2 Unnamed: 2  \\\n",
       "0   ham  Go until jurong point, crazy.. Available only ...        NaN   \n",
       "1   ham                      Ok lar... Joking wif u oni...        NaN   \n",
       "2  spam  Free entry in 2 a wkly comp to win FA Cup fina...        NaN   \n",
       "3   ham  U dun say so early hor... U c already then say...        NaN   \n",
       "4   ham  Nah I don't think he goes to usf, he lives aro...        NaN   \n",
       "\n",
       "  Unnamed: 3 Unnamed: 4  \n",
       "0        NaN        NaN  \n",
       "1        NaN        NaN  \n",
       "2        NaN        NaN  \n",
       "3        NaN        NaN  \n",
       "4        NaN        NaN  "
      ]
     },
     "execution_count": 3,
     "metadata": {},
     "output_type": "execute_result"
    }
   ],
   "source": [
    "x.head()"
   ]
  },
  {
   "cell_type": "code",
   "execution_count": 4,
   "id": "437aa047",
   "metadata": {
    "execution": {
     "iopub.execute_input": "2021-12-17T13:46:57.542530Z",
     "iopub.status.busy": "2021-12-17T13:46:57.541384Z",
     "iopub.status.idle": "2021-12-17T13:46:57.553321Z",
     "shell.execute_reply": "2021-12-17T13:46:57.553899Z",
     "shell.execute_reply.started": "2021-12-17T13:45:37.988846Z"
    },
    "papermill": {
     "duration": 0.034384,
     "end_time": "2021-12-17T13:46:57.554106",
     "exception": false,
     "start_time": "2021-12-17T13:46:57.519722",
     "status": "completed"
    },
    "tags": []
   },
   "outputs": [
    {
     "name": "stdout",
     "output_type": "stream",
     "text": [
      "Missing Values Ratio : \n",
      "v1            0.000000\n",
      "v2            0.000000\n",
      "Unnamed: 2    0.991027\n",
      "Unnamed: 3    0.997846\n",
      "Unnamed: 4    0.998923\n",
      "dtype: float64\n"
     ]
    }
   ],
   "source": [
    "missingValues=x.isna().sum()/x.shape[0]\n",
    "print(f'Missing Values Ratio : \\n{missingValues}')"
   ]
  },
  {
   "cell_type": "code",
   "execution_count": 5,
   "id": "cab85535",
   "metadata": {
    "execution": {
     "iopub.execute_input": "2021-12-17T13:46:57.595075Z",
     "iopub.status.busy": "2021-12-17T13:46:57.593978Z",
     "iopub.status.idle": "2021-12-17T13:46:57.843903Z",
     "shell.execute_reply": "2021-12-17T13:46:57.843219Z",
     "shell.execute_reply.started": "2021-12-17T13:45:38.006383Z"
    },
    "papermill": {
     "duration": 0.271706,
     "end_time": "2021-12-17T13:46:57.844072",
     "exception": false,
     "start_time": "2021-12-17T13:46:57.572366",
     "status": "completed"
    },
    "tags": []
   },
   "outputs": [
    {
     "data": {
      "text/plain": [
       "<AxesSubplot:xlabel='v1', ylabel='count'>"
      ]
     },
     "execution_count": 5,
     "metadata": {},
     "output_type": "execute_result"
    },
    {
     "data": {
      "image/png": "[encoded data removed]",
      "text/plain": [
       "<Figure size 432x288 with 1 Axes>"
      ]
     },
     "metadata": {
      "needs_background": "light"
     },
     "output_type": "display_data"
    }
   ],
   "source": [
    "sns.countplot(x[\"v1\"])"
   ]
  },
  {
   "cell_type": "markdown",
   "id": "9596a8ae",
   "metadata": {
    "papermill": {
     "duration": 0.01981,
     "end_time": "2021-12-17T13:46:57.883578",
     "exception": false,
     "start_time": "2021-12-17T13:46:57.863768",
     "status": "completed"
    },
    "tags": []
   },
   "source": [
    "Data isn't balanced"
   ]
  },
  {
   "cell_type": "code",
   "execution_count": 6,
   "id": "87faf8c9",
   "metadata": {
    "execution": {
     "iopub.execute_input": "2021-12-17T13:46:57.928531Z",
     "iopub.status.busy": "2021-12-17T13:46:57.927317Z",
     "iopub.status.idle": "2021-12-17T13:46:57.937725Z",
     "shell.execute_reply": "2021-12-17T13:46:57.938323Z",
     "shell.execute_reply.started": "2021-12-17T13:45:38.234199Z"
    },
    "papermill": {
     "duration": 0.034955,
     "end_time": "2021-12-17T13:46:57.938540",
     "exception": false,
     "start_time": "2021-12-17T13:46:57.903585",
     "status": "completed"
    },
    "tags": []
   },
   "outputs": [],
   "source": [
    "mapping={'ham':0,'spam':1}\n",
    "x['v1']=x['v1'].replace(mapping)"
   ]
  },
  {
   "cell_type": "code",
   "execution_count": 7,
   "id": "f22e8408",
   "metadata": {
    "execution": {
     "iopub.execute_input": "2021-12-17T13:46:57.981923Z",
     "iopub.status.busy": "2021-12-17T13:46:57.980721Z",
     "iopub.status.idle": "2021-12-17T13:46:57.996279Z",
     "shell.execute_reply": "2021-12-17T13:46:57.997117Z",
     "shell.execute_reply.started": "2021-12-17T13:45:38.245958Z"
    },
    "papermill": {
     "duration": 0.039564,
     "end_time": "2021-12-17T13:46:57.997458",
     "exception": false,
     "start_time": "2021-12-17T13:46:57.957894",
     "status": "completed"
    },
    "tags": []
   },
   "outputs": [],
   "source": [
    "x=x.fillna(' ')\n",
    "x['concat']=x['v2']+x['Unnamed: 2']+x['Unnamed: 3']+x['Unnamed: 4']"
   ]
  },
  {
   "cell_type": "code",
   "execution_count": 8,
   "id": "1683ffbe",
   "metadata": {
    "execution": {
     "iopub.execute_input": "2021-12-17T13:46:58.045951Z",
     "iopub.status.busy": "2021-12-17T13:46:58.045177Z",
     "iopub.status.idle": "2021-12-17T13:46:58.050837Z",
     "shell.execute_reply": "2021-12-17T13:46:58.051404Z",
     "shell.execute_reply.started": "2021-12-17T13:45:38.266094Z"
    },
    "papermill": {
     "duration": 0.033821,
     "end_time": "2021-12-17T13:46:58.051639",
     "exception": false,
     "start_time": "2021-12-17T13:46:58.017818",
     "status": "completed"
    },
    "tags": []
   },
   "outputs": [],
   "source": [
    "x.drop(['Unnamed: 2','Unnamed: 3','Unnamed: 4','v2'],axis=1,inplace=True)\n",
    "x.rename(columns={'v1':'classifier','concat':'texts'},inplace=True)"
   ]
  },
  {
   "cell_type": "code",
   "execution_count": 9,
   "id": "74bf5e3d",
   "metadata": {
    "execution": {
     "iopub.execute_input": "2021-12-17T13:46:58.097880Z",
     "iopub.status.busy": "2021-12-17T13:46:58.097115Z",
     "iopub.status.idle": "2021-12-17T13:46:58.112750Z",
     "shell.execute_reply": "2021-12-17T13:46:58.113440Z",
     "shell.execute_reply.started": "2021-12-17T13:45:38.275708Z"
    },
    "papermill": {
     "duration": 0.040665,
     "end_time": "2021-12-17T13:46:58.113665",
     "exception": false,
     "start_time": "2021-12-17T13:46:58.073000",
     "status": "completed"
    },
    "tags": []
   },
   "outputs": [],
   "source": [
    "x['texts'] = x['texts'].str.lower()\n",
    "x['#tokens'],x['#char'],x['#sentences'],x['#stopwords'],x['#tokensAfter'],x['#numbersinTxt'],x['#uniqueWords'],x['Mails&phones'],x['#len_steem']=0,0,0,0,0,0,0,0,0\n",
    "x['pureText']=x['texts']"
   ]
  },
  {
   "cell_type": "code",
   "execution_count": 10,
   "id": "0f7d3ba3",
   "metadata": {
    "execution": {
     "iopub.execute_input": "2021-12-17T13:46:58.157831Z",
     "iopub.status.busy": "2021-12-17T13:46:58.157021Z",
     "iopub.status.idle": "2021-12-17T13:46:58.165727Z",
     "shell.execute_reply": "2021-12-17T13:46:58.166367Z",
     "shell.execute_reply.started": "2021-12-17T13:45:38.294901Z"
    },
    "papermill": {
     "duration": 0.032287,
     "end_time": "2021-12-17T13:46:58.166587",
     "exception": false,
     "start_time": "2021-12-17T13:46:58.134300",
     "status": "completed"
    },
    "tags": []
   },
   "outputs": [],
   "source": [
    "def lemmaOrStem(tokens,stemm=False,stemmer='',lemma=False,partOfSpeech=''):\n",
    "\n",
    "    if (stemm):\n",
    "        if(stemmer=='Porter'):\n",
    "            porter = PorterStemmer()\n",
    "            porterStemming = [porter.stem(j)  for j in tokens]\n",
    "            return porterStemming\n",
    "\n",
    "        #---------landstremmer------#    \n",
    "        elif(stemmer=='lancaster'):    \n",
    "        \n",
    "            lancaster=LancasterStemmer()\n",
    "            lancasterStemming = [lancaster.stem(j)  for j in tokens]\n",
    "            return lancasterStemming\n",
    "            \n",
    "    #---------------SnowballStemmer--------#\n",
    "\n",
    "        elif(stemmer=='snow') :\n",
    "                sm = SnowballStemmer(\"english\")\n",
    "                snowballStemming = [sm.stem(j)  for j in tokens]\n",
    "                return snowballStemming\n",
    "   \n",
    "    if(lemma):        \n",
    "    #----------Lemmatization---------#\n",
    "        lemm = nltk.WordNetLemmatizer()\n",
    "        #ADJ, ADJ_SAT, ADV, NOUN, VERB = 'a', 's', 'r', 'n', 'v'\n",
    "        lemm_1 = [lemm.lemmatize(j,pos=partOfSpeech) for j in tokens]\n",
    "        return lemm_1\n",
    "   \n"
   ]
  },
  {
   "cell_type": "code",
   "execution_count": 11,
   "id": "67e0b964",
   "metadata": {
    "execution": {
     "iopub.execute_input": "2021-12-17T13:46:58.210069Z",
     "iopub.status.busy": "2021-12-17T13:46:58.209170Z",
     "iopub.status.idle": "2021-12-17T13:46:58.214501Z",
     "shell.execute_reply": "2021-12-17T13:46:58.215027Z",
     "shell.execute_reply.started": "2021-12-17T13:45:38.305481Z"
    },
    "papermill": {
     "duration": 0.029355,
     "end_time": "2021-12-17T13:46:58.215295",
     "exception": false,
     "start_time": "2021-12-17T13:46:58.185940",
     "status": "completed"
    },
    "tags": []
   },
   "outputs": [],
   "source": [
    "def mail_phone(text):\n",
    "    mail=re.findall(r\"\\S{0,}\\@[a-z]{0,}\\.[a-z]{1,4}\",text)\n",
    "    phone=re.findall(r\"[\\+]?[0-9]{2}\\s*[0-9]{6,9}\",text)\n",
    "    return mail,phone"
   ]
  },
  {
   "cell_type": "code",
   "execution_count": 12,
   "id": "810d2b42",
   "metadata": {
    "execution": {
     "iopub.execute_input": "2021-12-17T13:46:58.258913Z",
     "iopub.status.busy": "2021-12-17T13:46:58.258045Z",
     "iopub.status.idle": "2021-12-17T13:47:24.535268Z",
     "shell.execute_reply": "2021-12-17T13:47:24.534495Z",
     "shell.execute_reply.started": "2021-12-17T13:45:38.319779Z"
    },
    "papermill": {
     "duration": 26.300193,
     "end_time": "2021-12-17T13:47:24.535469",
     "exception": false,
     "start_time": "2021-12-17T13:46:58.235276",
     "status": "completed"
    },
    "tags": []
   },
   "outputs": [],
   "source": [
    "\n",
    "stop = set(stopwords.words('english'))\n",
    "\n",
    "for i in range(0,x.shape[0]):\n",
    "    \n",
    "    x['#char'][i]=len(x['texts'][i])\n",
    "    \n",
    "    tokens = word_tokenize(x['texts'][i])\n",
    "    x['#tokens'][i]= len(tokens)\n",
    "    \n",
    "    sentences=nltk.sent_tokenize(x['texts'][i])\n",
    "    if(len(sentences)==1 or len(sentences)==0):\n",
    "        x['#sentences'][i] =0\n",
    "    else : x['#sentences'][i] =1   \n",
    "    \n",
    "    \n",
    "    tokensOfpureTextWithoutstop=[token for token in x['texts'][i].split() if token not in stop]\n",
    "    x['pureText'][i] = \" \".join(tokensOfpureTextWithoutstop)\n",
    "    \n",
    "    textWithoutPunctuations= re.findall(r'\\w+',x['pureText'][i])\n",
    "    x['pureText'][i] = \" \".join(textWithoutPunctuations)\n",
    "    \n",
    "    counNum=re.findall(r'\\d+',x['pureText'][i])\n",
    "    x['#numbersinTxt'][i]=len(counNum)\n",
    "    \n",
    "    x['#uniqueWords'][i]=len(set(textWithoutPunctuations))\n",
    "\n",
    "    x['#tokensAfter'][i]= len(textWithoutPunctuations)\n",
    "    \n",
    "    x['#stopwords'][i]=(x['#tokens'][i])-(len(tokensOfpureTextWithoutstop))\n",
    "    \n",
    "    mail,phone=mail_phone(x['pureText'][i])\n",
    "    x['Mails&phones'][i]=len(mail)+len(phone)\n",
    "    \n",
    "    lemmaText=lemmaOrStem(x['texts'][i].split(),stemm=False,stemmer='',lemma=True,partOfSpeech='n')\n",
    "    x['#len_steem'][i]=len(lemmaText)"
   ]
  },
  {
   "cell_type": "code",
   "execution_count": 13,
   "id": "cc8c20a8",
   "metadata": {
    "execution": {
     "iopub.execute_input": "2021-12-17T13:47:24.592869Z",
     "iopub.status.busy": "2021-12-17T13:47:24.590764Z",
     "iopub.status.idle": "2021-12-17T13:47:24.597089Z",
     "shell.execute_reply": "2021-12-17T13:47:24.596263Z",
     "shell.execute_reply.started": "2021-12-17T13:46:01.198040Z"
    },
    "papermill": {
     "duration": 0.042282,
     "end_time": "2021-12-17T13:47:24.597327",
     "exception": false,
     "start_time": "2021-12-17T13:47:24.555045",
     "status": "completed"
    },
    "tags": []
   },
   "outputs": [
    {
     "data": {
      "text/html": [
       "<div>\n",
       "<style scoped>\n",
       "    .dataframe tbody tr th:only-of-type {\n",
       "        vertical-align: middle;\n",
       "    }\n",
       "\n",
       "    .dataframe tbody tr th {\n",
       "        vertical-align: top;\n",
       "    }\n",
       "\n",
       "    .dataframe thead th {\n",
       "        text-align: right;\n",
       "    }\n",
       "</style>\n",
       "<table border=\"1\" class=\"dataframe\">\n",
       "  <thead>\n",
       "    <tr style=\"text-align: right;\">\n",
       "      <th></th>\n",
       "      <th>classifier</th>\n",
       "      <th>texts</th>\n",
       "      <th>#tokens</th>\n",
       "      <th>#char</th>\n",
       "      <th>#sentences</th>\n",
       "      <th>#stopwords</th>\n",
       "      <th>#tokensAfter</th>\n",
       "      <th>#numbersinTxt</th>\n",
       "      <th>#uniqueWords</th>\n",
       "      <th>Mails&amp;phones</th>\n",
       "      <th>#len_steem</th>\n",
       "      <th>pureText</th>\n",
       "    </tr>\n",
       "  </thead>\n",
       "  <tbody>\n",
       "    <tr>\n",
       "      <th>0</th>\n",
       "      <td>0</td>\n",
       "      <td>go until jurong point, crazy.. available only ...</td>\n",
       "      <td>23</td>\n",
       "      <td>114</td>\n",
       "      <td>0</td>\n",
       "      <td>7</td>\n",
       "      <td>16</td>\n",
       "      <td>0</td>\n",
       "      <td>16</td>\n",
       "      <td>0</td>\n",
       "      <td>20</td>\n",
       "      <td>go jurong point crazy available bugis n great ...</td>\n",
       "    </tr>\n",
       "    <tr>\n",
       "      <th>1</th>\n",
       "      <td>0</td>\n",
       "      <td>ok lar... joking wif u oni...</td>\n",
       "      <td>8</td>\n",
       "      <td>32</td>\n",
       "      <td>0</td>\n",
       "      <td>2</td>\n",
       "      <td>6</td>\n",
       "      <td>0</td>\n",
       "      <td>6</td>\n",
       "      <td>0</td>\n",
       "      <td>6</td>\n",
       "      <td>ok lar joking wif u oni</td>\n",
       "    </tr>\n",
       "    <tr>\n",
       "      <th>2</th>\n",
       "      <td>1</td>\n",
       "      <td>free entry in 2 a wkly comp to win fa cup fina...</td>\n",
       "      <td>36</td>\n",
       "      <td>158</td>\n",
       "      <td>0</td>\n",
       "      <td>13</td>\n",
       "      <td>28</td>\n",
       "      <td>6</td>\n",
       "      <td>25</td>\n",
       "      <td>1</td>\n",
       "      <td>28</td>\n",
       "      <td>free entry 2 wkly comp win fa cup final tkts 2...</td>\n",
       "    </tr>\n",
       "    <tr>\n",
       "      <th>3</th>\n",
       "      <td>0</td>\n",
       "      <td>u dun say so early hor... u c already then say...</td>\n",
       "      <td>13</td>\n",
       "      <td>52</td>\n",
       "      <td>0</td>\n",
       "      <td>4</td>\n",
       "      <td>9</td>\n",
       "      <td>0</td>\n",
       "      <td>7</td>\n",
       "      <td>0</td>\n",
       "      <td>11</td>\n",
       "      <td>u dun say early hor u c already say</td>\n",
       "    </tr>\n",
       "    <tr>\n",
       "      <th>4</th>\n",
       "      <td>0</td>\n",
       "      <td>nah i don't think he goes to usf, he lives aro...</td>\n",
       "      <td>15</td>\n",
       "      <td>64</td>\n",
       "      <td>0</td>\n",
       "      <td>8</td>\n",
       "      <td>7</td>\n",
       "      <td>0</td>\n",
       "      <td>7</td>\n",
       "      <td>0</td>\n",
       "      <td>13</td>\n",
       "      <td>nah think goes usf lives around though</td>\n",
       "    </tr>\n",
       "  </tbody>\n",
       "</table>\n",
       "</div>"
      ],
      "text/plain": [
       "   classifier                                              texts  #tokens  \\\n",
       "0           0  go until jurong point, crazy.. available only ...       23   \n",
       "1           0                   ok lar... joking wif u oni...           8   \n",
       "2           1  free entry in 2 a wkly comp to win fa cup fina...       36   \n",
       "3           0  u dun say so early hor... u c already then say...       13   \n",
       "4           0  nah i don't think he goes to usf, he lives aro...       15   \n",
       "\n",
       "   #char  #sentences  #stopwords  #tokensAfter  #numbersinTxt  #uniqueWords  \\\n",
       "0    114           0           7            16              0            16   \n",
       "1     32           0           2             6              0             6   \n",
       "2    158           0          13            28              6            25   \n",
       "3     52           0           4             9              0             7   \n",
       "4     64           0           8             7              0             7   \n",
       "\n",
       "   Mails&phones  #len_steem                                           pureText  \n",
       "0             0          20  go jurong point crazy available bugis n great ...  \n",
       "1             0           6                            ok lar joking wif u oni  \n",
       "2             1          28  free entry 2 wkly comp win fa cup final tkts 2...  \n",
       "3             0          11                u dun say early hor u c already say  \n",
       "4             0          13             nah think goes usf lives around though  "
      ]
     },
     "execution_count": 13,
     "metadata": {},
     "output_type": "execute_result"
    }
   ],
   "source": [
    "x.head()"
   ]
  },
  {
   "cell_type": "code",
   "execution_count": 14,
   "id": "ddaa5f52",
   "metadata": {
    "execution": {
     "iopub.execute_input": "2021-12-17T13:47:24.643913Z",
     "iopub.status.busy": "2021-12-17T13:47:24.643024Z",
     "iopub.status.idle": "2021-12-17T13:47:24.654379Z",
     "shell.execute_reply": "2021-12-17T13:47:24.655047Z",
     "shell.execute_reply.started": "2021-12-17T13:46:01.218288Z"
    },
    "papermill": {
     "duration": 0.036231,
     "end_time": "2021-12-17T13:47:24.655292",
     "exception": false,
     "start_time": "2021-12-17T13:47:24.619061",
     "status": "completed"
    },
    "tags": []
   },
   "outputs": [],
   "source": [
    "x.drop(['texts'],axis=1,inplace=True)"
   ]
  },
  {
   "cell_type": "code",
   "execution_count": 15,
   "id": "fa203a3f",
   "metadata": {
    "execution": {
     "iopub.execute_input": "2021-12-17T13:47:24.700262Z",
     "iopub.status.busy": "2021-12-17T13:47:24.699433Z",
     "iopub.status.idle": "2021-12-17T13:47:25.622626Z",
     "shell.execute_reply": "2021-12-17T13:47:25.623203Z",
     "shell.execute_reply.started": "2021-12-17T13:46:01.236121Z"
    },
    "papermill": {
     "duration": 0.947908,
     "end_time": "2021-12-17T13:47:25.623406",
     "exception": false,
     "start_time": "2021-12-17T13:47:24.675498",
     "status": "completed"
    },
    "tags": []
   },
   "outputs": [
    {
     "data": {
      "text/plain": [
       "<AxesSubplot:>"
      ]
     },
     "execution_count": 15,
     "metadata": {},
     "output_type": "execute_result"
    },
    {
     "data": {
      "image/png": "[encoded data removed]",
      "text/plain": [
       "<Figure size 432x288 with 2 Axes>"
      ]
     },
     "metadata": {
      "needs_background": "light"
     },
     "output_type": "display_data"
    }
   ],
   "source": [
    "corr = x.iloc[:,0:-1].corr()\n",
    "sns.heatmap(corr,annot=corr)"
   ]
  },
  {
   "cell_type": "code",
   "execution_count": 16,
   "id": "65bffb90",
   "metadata": {
    "execution": {
     "iopub.execute_input": "2021-12-17T13:47:25.672751Z",
     "iopub.status.busy": "2021-12-17T13:47:25.671945Z",
     "iopub.status.idle": "2021-12-17T13:47:25.677462Z",
     "shell.execute_reply": "2021-12-17T13:47:25.678058Z",
     "shell.execute_reply.started": "2021-12-17T13:46:02.098545Z"
    },
    "papermill": {
     "duration": 0.032464,
     "end_time": "2021-12-17T13:47:25.678284",
     "exception": false,
     "start_time": "2021-12-17T13:47:25.645820",
     "status": "completed"
    },
    "tags": []
   },
   "outputs": [],
   "source": [
    "x.drop(['#stopwords'],axis=1,inplace=True)"
   ]
  },
  {
   "cell_type": "markdown",
   "id": "0f0fd923",
   "metadata": {
    "papermill": {
     "duration": 0.02187,
     "end_time": "2021-12-17T13:47:25.722443",
     "exception": false,
     "start_time": "2021-12-17T13:47:25.700573",
     "status": "completed"
    },
    "tags": []
   },
   "source": [
    "**Works on Feature we extract**"
   ]
  },
  {
   "cell_type": "code",
   "execution_count": 17,
   "id": "44c848f9",
   "metadata": {
    "execution": {
     "iopub.execute_input": "2021-12-17T13:47:25.771035Z",
     "iopub.status.busy": "2021-12-17T13:47:25.770241Z",
     "iopub.status.idle": "2021-12-17T13:47:26.507513Z",
     "shell.execute_reply": "2021-12-17T13:47:26.506818Z",
     "shell.execute_reply.started": "2021-12-17T13:46:02.106328Z"
    },
    "papermill": {
     "duration": 0.762988,
     "end_time": "2021-12-17T13:47:26.507706",
     "exception": false,
     "start_time": "2021-12-17T13:47:25.744718",
     "status": "completed"
    },
    "tags": []
   },
   "outputs": [
    {
     "name": "stdout",
     "output_type": "stream",
     "text": [
      "0.966618808327351\n",
      "0.9558506819813353\n",
      "0.951543431442929\n"
     ]
    }
   ],
   "source": [
    "from sklearn.linear_model import LogisticRegression\n",
    "from sklearn.svm import SVC\n",
    "from sklearn.naive_bayes import MultinomialNB\n",
    "\n",
    "\n",
    "lr=LogisticRegression(max_iter=10000)\n",
    "\n",
    "lr.fit(x.iloc[:,1:-1],x.iloc[:,0])\n",
    "print(lr.score(x.iloc[:,1:-1],x.iloc[:,0]))\n",
    "\n",
    "nb=MultinomialNB()\n",
    "nb.fit(x.iloc[:,1:-1],x.iloc[:,0])\n",
    "print(nb.score(x.iloc[:,1:-1],x.iloc[:,0]))\n",
    "\n",
    "svm=SVC()\n",
    "svm.fit(x.iloc[:,1:-1],x.iloc[:,0])\n",
    "print(svm.score(x.iloc[:,1:-1],x.iloc[:,0]))\n"
   ]
  },
  {
   "cell_type": "code",
   "execution_count": null,
   "id": "0c7e96df",
   "metadata": {
    "papermill": {
     "duration": 0.022571,
     "end_time": "2021-12-17T13:47:26.553361",
     "exception": false,
     "start_time": "2021-12-17T13:47:26.530790",
     "status": "completed"
    },
    "tags": []
   },
   "outputs": [],
   "source": [
    "        "
   ]
  },
  {
   "cell_type": "code",
   "execution_count": null,
   "id": "e24f2f39",
   "metadata": {
    "papermill": {
     "duration": 0.022388,
     "end_time": "2021-12-17T13:47:26.598717",
     "exception": false,
     "start_time": "2021-12-17T13:47:26.576329",
     "status": "completed"
    },
    "tags": []
   },
   "outputs": [],
   "source": []
  }
 ],
 "metadata": {
  "kernelspec": {
   "display_name": "Python 3",
   "language": "python",
   "name": "python3"
  },
  "language_info": {
   "codemirror_mode": {
    "name": "ipython",
    "version": 3
   },
   "file_extension": ".py",
   "mimetype": "text/x-python",
   "name": "python",
   "nbconvert_exporter": "python",
   "pygments_lexer": "ipython3",
   "version": "3.7.10"
  },
  "papermill": {
   "default_parameters": {},
   "duration": 44.039267,
   "end_time": "2021-12-17T13:47:28.040364",
   "environment_variables": {},
   "exception": null,
   "input_path": "__notebook__.ipynb",
   "output_path": "__notebook__.ipynb",
   "parameters": {},
   "start_time": "2021-12-17T13:46:44.001097",
   "version": "2.3.3"
  }
 },
 "nbformat": 4,
 "nbformat_minor": 5
}
